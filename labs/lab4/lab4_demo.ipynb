{
 "cells": [
  {
   "cell_type": "markdown",
   "id": "d6f773a0",
   "metadata": {
    "slideshow": {
     "slide_type": "-"
    }
   },
   "source": [
    "## Lab 4: Gridded data in Python\n",
    "\n",
    "**Objectives:**\n",
    "   * We will learn how to read, inspect, and write gridded data using <code>rasterio</code> and <code>xarray</code>.\n",
    "   * Learn how to index, slice and manipulate our gridded data.\n",
    "   * Export our data as <code>GeoTIFF</code> or <code>NetCDF</code> format.\n",
    "\n",
    "We will start by reading/writing some remote sensing data where each band is saved as separate <code>GeoTIFFs</code>. After that, we will read some climate reanalysis data saved as <code>NetCDF</code> format.\n",
    "\n",
    "The questions are the end of the notebook."
   ]
  },
  {
   "cell_type": "markdown",
   "id": "802c6520",
   "metadata": {},
   "source": [
    "### Check for any updates in course materials\n",
    "\n",
    "Before we start this assignment, we need to check whether there are any updates to the original course repository. We can do this by adding the original repository (the one we forked) as a *remote*. Command line users can do this by running:\n",
    "\n",
    "<code>git fetch upstream</code>\n",
    "\n",
    "<code>git merge upstream/master master</code>\n",
    "\n",
    "GitHub Desktop users should first click the **Fetch origin** button to check for new changes. Then click the triangle symbol next to **Current branch: master**, click **Choose a branch to merge into master**, click **upstream/master** from **Other branches** and click **Create a merge commit**. \n",
    "\n",
    "Any new updates to the course repository will now be available in your local repository."
   ]
  },
  {
   "cell_type": "markdown",
   "id": "553b964b",
   "metadata": {},
   "source": [
    "### Download the data for the lab\n",
    "\n",
    "We will be using some Landsat 8 and ERA5 climate reanalysis data. Since the max file size for GitHub is 2 GB, the lab data will be available on Dropbox (see Slack (or Canvas) for link). Go ahead and download all seven Landsat `.TIF` files and the ERA5 `.nc` file to your local machine. "
   ]
  },
  {
   "cell_type": "markdown",
   "id": "f9a4d7f1",
   "metadata": {},
   "source": [
    "### Create a new environment and launch the notebook\n",
    "\n",
    "As always, make a new environment that contains all the packages for this lab. Navigate to the `labs/lab4` folder (either from the terminal for Linux and Mac users or from the **CMD.exe Prompt** launched from **Anaconda Navigator** for Windows users) and run:\n",
    "\n",
    "`conda env create -f environment.yml`\n",
    "\n",
    "Activate this environment by running:\n",
    "\n",
    "`conda activate lab4`\n",
    "\n",
    "Now launch the lab demo notebook (if you haven't already): https://nbviewer.org/github/JohnnyRyan1/geospatial-data-science/blob/master/labs/lab4/lab4_demo.ipynb\n",
    "\n",
    "Now we are ready to start..."
   ]
  },
  {
   "cell_type": "code",
   "execution_count": 1,
   "id": "7d3ab0c9",
   "metadata": {},
   "outputs": [
    {
     "ename": "ModuleNotFoundError",
     "evalue": "No module named 'rasterio'",
     "output_type": "error",
     "traceback": [
      "\u001b[0;31m---------------------------------------------------------------------------\u001b[0m",
      "\u001b[0;31mModuleNotFoundError\u001b[0m                       Traceback (most recent call last)",
      "\u001b[0;32m/var/folders/xh/2m5kxrv16pl53xj7ybvplclw0000gn/T/ipykernel_96280/1629453788.py\u001b[0m in \u001b[0;36m<module>\u001b[0;34m\u001b[0m\n\u001b[1;32m      7\u001b[0m \u001b[0;34m\u001b[0m\u001b[0m\n\u001b[1;32m      8\u001b[0m \u001b[0;32mimport\u001b[0m \u001b[0mnumpy\u001b[0m \u001b[0;32mas\u001b[0m \u001b[0mnp\u001b[0m\u001b[0;34m\u001b[0m\u001b[0;34m\u001b[0m\u001b[0m\n\u001b[0;32m----> 9\u001b[0;31m \u001b[0;32mimport\u001b[0m \u001b[0mrasterio\u001b[0m\u001b[0;34m\u001b[0m\u001b[0;34m\u001b[0m\u001b[0m\n\u001b[0m\u001b[1;32m     10\u001b[0m \u001b[0;32mimport\u001b[0m \u001b[0mxarray\u001b[0m\u001b[0;34m\u001b[0m\u001b[0;34m\u001b[0m\u001b[0m\n",
      "\u001b[0;31mModuleNotFoundError\u001b[0m: No module named 'rasterio'"
     ]
    }
   ],
   "source": [
    "# Import packages\n",
    "import os\n",
    "import glob\n",
    "\n",
    "import matplotlib.pyplot as plt\n",
    "from mpl_toolkits.axes_grid1 import make_axes_locatable\n",
    "\n",
    "import numpy as np\n",
    "import rasterio\n",
    "import xarray"
   ]
  },
  {
   "cell_type": "markdown",
   "id": "c52a6e23",
   "metadata": {},
   "source": [
    "## Read and inspect a Landsat 8 raster layer"
   ]
  },
  {
   "cell_type": "code",
   "execution_count": null,
   "id": "dbfdf4e7",
   "metadata": {},
   "outputs": [],
   "source": [
    "# Define filepath\n",
    "filepath = '/Users/jryan4/Dropbox (University of Oregon)/Teaching/geospatial-data-science/data/lab4/'\n",
    "\n",
    "# Define list of Landsat bands\n",
    "files = sorted(glob.glob(filepath + 'landsat/*.tif'))\n",
    "print(files)"
   ]
  },
  {
   "cell_type": "markdown",
   "id": "7ade5e81",
   "metadata": {},
   "source": [
    "Next, open a single band from your Landsat scene. "
   ]
  },
  {
   "cell_type": "code",
   "execution_count": null,
   "id": "9ad21856",
   "metadata": {},
   "outputs": [],
   "source": [
    "# Open a single band\n",
    "src = rasterio.open(files[0])\n",
    "band_1 = src.read(1)"
   ]
  },
  {
   "cell_type": "markdown",
   "id": "618b4c9c",
   "metadata": {},
   "source": [
    "The dataset's **profile** contains number of parameters, several of which are required for georeferencing and writing a new dataset"
   ]
  },
  {
   "cell_type": "code",
   "execution_count": null,
   "id": "e5323511",
   "metadata": {},
   "outputs": [],
   "source": [
    "# Find metadata (e.g. driver, data type, coordinate reference system, transform etc.)\n",
    "print(src.profile)"
   ]
  },
  {
   "cell_type": "markdown",
   "id": "b076d188",
   "metadata": {},
   "source": [
    "We can also get some of these parameters separately."
   ]
  },
  {
   "cell_type": "code",
   "execution_count": null,
   "id": "e25e8155",
   "metadata": {},
   "outputs": [],
   "source": [
    "# Find coordinate reference system\n",
    "src.crs # https://epsg.io/32610"
   ]
  },
  {
   "cell_type": "code",
   "execution_count": null,
   "id": "194c2435",
   "metadata": {},
   "outputs": [],
   "source": [
    "# Find format\n",
    "src.driver"
   ]
  },
  {
   "cell_type": "code",
   "execution_count": null,
   "id": "6aa3f608",
   "metadata": {},
   "outputs": [],
   "source": [
    "# Find pixel size\n",
    "src.transform[0]"
   ]
  },
  {
   "cell_type": "code",
   "execution_count": null,
   "id": "d6eacc2e",
   "metadata": {},
   "outputs": [],
   "source": [
    "# Find bounds of dataset\n",
    "src.bounds"
   ]
  },
  {
   "cell_type": "code",
   "execution_count": null,
   "id": "c7b8d001",
   "metadata": {},
   "outputs": [],
   "source": [
    "# Get corners of dataset\n",
    "full_extent = [src.bounds.left, src.bounds.right, src.bounds.bottom, src.bounds.top]\n",
    "print(full_extent)"
   ]
  },
  {
   "cell_type": "code",
   "execution_count": null,
   "id": "381521a1",
   "metadata": {},
   "outputs": [],
   "source": [
    "# Plot dataset\n",
    "fig, ax = plt.subplots(figsize=(8,8))\n",
    "im = ax.imshow(band_1, cmap='gray', extent=full_extent)\n",
    "ax.set_title(\"Band 1\")\n",
    "fig.colorbar(im, orientation='vertical')\n",
    "plt.show()"
   ]
  },
  {
   "cell_type": "markdown",
   "id": "47153218",
   "metadata": {},
   "source": [
    "Since the raster is read as an NumPy array (called <code>band_1</code>), we can use standard Python methods to find the dimensions, shape, and size of it."
   ]
  },
  {
   "cell_type": "code",
   "execution_count": null,
   "id": "754bc9f3",
   "metadata": {},
   "outputs": [],
   "source": [
    "# Find number of columns and rows in array\n",
    "band_1.shape"
   ]
  },
  {
   "cell_type": "code",
   "execution_count": null,
   "id": "7479cec6",
   "metadata": {},
   "outputs": [],
   "source": [
    "# Find total number of pixels in array\n",
    "band_1.size"
   ]
  },
  {
   "cell_type": "code",
   "execution_count": null,
   "id": "4af84287",
   "metadata": {},
   "outputs": [],
   "source": [
    "# Find maximum value in array\n",
    "band_1.max()"
   ]
  },
  {
   "cell_type": "code",
   "execution_count": null,
   "id": "3e0e54f1",
   "metadata": {},
   "outputs": [],
   "source": [
    "# Find datatype\n",
    "band_1.dtype"
   ]
  },
  {
   "cell_type": "code",
   "execution_count": null,
   "id": "302a408a",
   "metadata": {},
   "outputs": [],
   "source": [
    "# Find maximum possible value in array\n",
    "2**16"
   ]
  },
  {
   "cell_type": "code",
   "execution_count": null,
   "id": "c4dd3b49",
   "metadata": {},
   "outputs": [],
   "source": [
    "# Find file size (in MB)\n",
    "band_1.nbytes / 1000000"
   ]
  },
  {
   "cell_type": "markdown",
   "id": "4296ba20",
   "metadata": {},
   "source": [
    "### Produce a true color image from multiple Landsat 8 bands"
   ]
  },
  {
   "cell_type": "markdown",
   "id": "67cf4fe9",
   "metadata": {},
   "source": [
    "We often stack Landsat bands so we can conduct our analysis on all bands at the same time. The code below takes each band that you opened, and stacks it into a new single output array. "
   ]
  },
  {
   "cell_type": "code",
   "execution_count": null,
   "id": "2d5ad1f7",
   "metadata": {},
   "outputs": [],
   "source": [
    "# Open all bands in a loop\n",
    "list_bands = []\n",
    "for file in files:\n",
    "    # Read band\n",
    "    src = rasterio.open(file)\n",
    "    band = src.read(1)\n",
    "    \n",
    "    # Append to list\n",
    "    list_bands.append(band)\n",
    "\n",
    "# Convert from list of arrays to n-dimensional array\n",
    "all_bands = np.dstack(list_bands)"
   ]
  },
  {
   "cell_type": "code",
   "execution_count": null,
   "id": "be5d56e4",
   "metadata": {},
   "outputs": [],
   "source": [
    "all_bands.shape"
   ]
  },
  {
   "cell_type": "markdown",
   "id": "2c2f1c29",
   "metadata": {},
   "source": [
    "We can actually pass a 3-band array to imshow and plot it as an RGB image because it is such a common image format. See [doc here](https://matplotlib.org/3.3.3/api/_as_gen/matplotlib.pyplot.imshow.html) for (M, N, 3) array input. But first we have to convert our values so they have a range of 0-255. We will also produce a new NumPy array that represents just the Red, Green, and Blue bands using the following as a guide: https://www.usgs.gov/media/images/landsat-8-band-designations."
   ]
  },
  {
   "cell_type": "code",
   "execution_count": null,
   "id": "c7d70411",
   "metadata": {},
   "outputs": [],
   "source": [
    "# Convert values to a range of 0-255\n",
    "all_bands_image = np.uint8((all_bands / 65536) * 255)"
   ]
  },
  {
   "cell_type": "code",
   "execution_count": null,
   "id": "3d82fad6",
   "metadata": {},
   "outputs": [],
   "source": [
    "# Produce a new array by stacking the RGB bands\n",
    "rgb = np.dstack((all_bands_image[:,:,3],all_bands_image[:,:,2],all_bands_image[:,:,1]))"
   ]
  },
  {
   "cell_type": "code",
   "execution_count": null,
   "id": "c78d7b37",
   "metadata": {},
   "outputs": [],
   "source": [
    "# Plot as RGB image\n",
    "fig, ax = plt.subplots(figsize=(8,8))\n",
    "im = ax.imshow(rgb, extent=full_extent)\n",
    "ax.set_title(\"True color image\")\n",
    "plt.show()"
   ]
  },
  {
   "cell_type": "markdown",
   "id": "c503aed5",
   "metadata": {},
   "source": [
    "### Compute a band ratio"
   ]
  },
  {
   "cell_type": "markdown",
   "id": "f7869f63",
   "metadata": {},
   "source": [
    "We can compute a Normalized Difference Water Index (NDWI) using the Green and NIR bands. \n",
    "\n",
    "NDWI = (Band 3 - Band 5) / (Band 3 + Band 5)\n",
    "\n",
    "Remember that arrays are zero indexed, so the first layer is corresponds to <code>all_bands[:,:,0]</code>. Also note that we have to make sure our bands are converted to <code>float</code> datatypes."
   ]
  },
  {
   "cell_type": "code",
   "execution_count": null,
   "id": "d0d78d44",
   "metadata": {},
   "outputs": [],
   "source": [
    "# Compute NDWI\n",
    "np.seterr(divide='ignore', invalid='ignore')\n",
    "ndwi = np.divide((all_bands[:,:,2].astype(float) - all_bands[:,:,4].astype(float)), \\\n",
    "                 (all_bands[:,:,2].astype(float) + all_bands[:,:,4].astype(float)))"
   ]
  },
  {
   "cell_type": "code",
   "execution_count": null,
   "id": "ea970009",
   "metadata": {},
   "outputs": [],
   "source": [
    "# Plot NDWI image\n",
    "fig, ax = plt.subplots(figsize=(8,8))\n",
    "im = ax.imshow(ndwi, extent=full_extent)\n",
    "ax.set_title(\"NDWI image\")\n",
    "fig.colorbar(im, orientation='vertical')\n",
    "plt.show()"
   ]
  },
  {
   "cell_type": "markdown",
   "id": "95e76571",
   "metadata": {},
   "source": [
    "We can now see which pixels are likely to be ocean, rivers, or lakes."
   ]
  },
  {
   "cell_type": "markdown",
   "id": "89232b3e",
   "metadata": {},
   "source": [
    "### Write true color composite to GeoTIFF"
   ]
  },
  {
   "cell_type": "code",
   "execution_count": null,
   "id": "5d7aa8af",
   "metadata": {},
   "outputs": [],
   "source": [
    "# Write an array as a raster band to a new 8-bit file. For the new file's profile, \n",
    "# we start with the profile of the source\n",
    "profile = src.profile\n",
    "\n",
    "# And then change the band count to 3, set the dtype to uint8, and specify LZW compression.\n",
    "profile.update(dtype=rasterio.uint8, count=3, compress='lzw')"
   ]
  },
  {
   "cell_type": "code",
   "execution_count": null,
   "id": "ea4c4399",
   "metadata": {},
   "outputs": [],
   "source": [
    "with rasterio.open(filepath + 'landsat/rgb.tif', 'w', **profile) as dst:\n",
    "    # Write array\n",
    "    dst.write(np.rollaxis(rgb, axis=2)) # Note that array needs to be in bands, rows, cols order (z, y, x)"
   ]
  },
  {
   "cell_type": "markdown",
   "id": "8b2d8f23",
   "metadata": {},
   "source": [
    "## Read climate reanalysis data"
   ]
  },
  {
   "cell_type": "markdown",
   "id": "305c769e",
   "metadata": {},
   "source": [
    "We usually use the <code>netCDF4</code> or <code>xarray</code> packages for this task."
   ]
  },
  {
   "cell_type": "code",
   "execution_count": null,
   "id": "1c42fd61",
   "metadata": {},
   "outputs": [],
   "source": [
    "# Read data\n",
    "xds = xarray.open_dataset(filepath + 'era/usa_t2m_tcc_2020.nc', decode_coords='all')"
   ]
  },
  {
   "cell_type": "code",
   "execution_count": null,
   "id": "4779cc1f",
   "metadata": {},
   "outputs": [],
   "source": [
    "xds"
   ]
  },
  {
   "cell_type": "markdown",
   "id": "f582d187",
   "metadata": {},
   "source": [
    "This looks a bit overwelming but it nice way to store gridded data. Below is a schematic of what an xarray data structure represents.\n",
    "\n",
    "\n",
    "<br>\n",
    "<div>\n",
    "<img src=\"images/xarray_data_structures.png\" width=\"600\"/>\n",
    "</div>"
   ]
  },
  {
   "cell_type": "code",
   "execution_count": null,
   "id": "ccbd99cd",
   "metadata": {},
   "outputs": [],
   "source": [
    "# Print the time period of the data\n",
    "print('The data ranges from %s to %s' %(xds['t2m']['time'].values.min(), xds['t2m']['time'].values.max()))"
   ]
  },
  {
   "cell_type": "markdown",
   "id": "5c2bfe6c",
   "metadata": {},
   "source": [
    "So we know the data spans one year but there are 1464 dimensions in the time variable. This means that the reanalysis data must have a temporal resolution of 6 hours. So before we continue we will resample to daily temporal resolution."
   ]
  },
  {
   "cell_type": "code",
   "execution_count": null,
   "id": "2ccf765f",
   "metadata": {},
   "outputs": [],
   "source": [
    "xds_daily = xds.resample(time='1D').mean()\n",
    "xds_daily"
   ]
  },
  {
   "cell_type": "markdown",
   "id": "37b2ecec",
   "metadata": {},
   "source": [
    "### Plot climate reanalysis data\n",
    "\n",
    "Now each layer in the dataset corresponds to a single day. Let's plot the air temperature and cloud cover for the day which the Landsat image was acquired (August 14, 2020)."
   ]
  },
  {
   "cell_type": "code",
   "execution_count": null,
   "id": "a8a1005e",
   "metadata": {},
   "outputs": [],
   "source": [
    "# Plot data\n",
    "fig, (ax1, ax2) = plt.subplots(nrows=1, ncols=2, figsize=(16,6))\n",
    "im1 = ax1.imshow(xds_daily['t2m'][226,:,:])\n",
    "divider = make_axes_locatable(ax1)\n",
    "cax = divider.append_axes('right', size='5%', pad=0.05)\n",
    "fig.colorbar(im1, cax=cax, orientation='vertical')\n",
    "\n",
    "im2 = ax2.imshow(xds_daily['tcc'][226,:,:])\n",
    "divider = make_axes_locatable(ax2)\n",
    "cax = divider.append_axes('right', size='5%', pad=0.05)\n",
    "fig.colorbar(im2, cax=cax, orientation='vertical')"
   ]
  },
  {
   "cell_type": "markdown",
   "id": "0153956a",
   "metadata": {},
   "source": [
    "### Weather in Florence, OR\n",
    "\n",
    "So we know that is was relatively cold, cloud-free day in Florence, just like we see in the Landsat image. But how anomalous were these conditions? We can investigate by finding the nearest climate reanalysis grid cell to Florence, OR. First we will define the latitude and longitude of Florence. "
   ]
  },
  {
   "cell_type": "code",
   "execution_count": null,
   "id": "72c90abb",
   "metadata": {},
   "outputs": [],
   "source": [
    "# Next, find the index of the grid point nearest a specific lat/lon.   \n",
    "florence_weather = xds_daily.sel(latitude=43.974659, longitude=-124.103142, method='nearest')"
   ]
  },
  {
   "cell_type": "code",
   "execution_count": null,
   "id": "bd5d12f7",
   "metadata": {},
   "outputs": [],
   "source": [
    "# Note: Aug 14 is DOY 226\n",
    "print('Cloud cover in Florence on Aug 14, 2020 = %.2f %%' % (florence_weather['tcc'][226].values * 100))"
   ]
  },
  {
   "cell_type": "code",
   "execution_count": null,
   "id": "f4ac12a5",
   "metadata": {},
   "outputs": [],
   "source": [
    "fahrenheit = (florence_weather['t2m'][226].values - 273.15) * 9/5 + 32\n",
    "print('Air temperature in Florence on Aug 14, 2020 = %.2f F' % (fahrenheit))"
   ]
  },
  {
   "cell_type": "markdown",
   "id": "d223e370",
   "metadata": {},
   "source": [
    "### Plot time series\n",
    "\n",
    "These values look about right. Now we can plot the time series."
   ]
  },
  {
   "cell_type": "code",
   "execution_count": null,
   "id": "ab70be2d",
   "metadata": {},
   "outputs": [],
   "source": [
    "fig, (ax1, ax2) = plt.subplots(nrows=1, ncols=2, figsize=(16,6))\n",
    "ax1.plot(florence_weather['t2m'])\n",
    "ax1.scatter(226, florence_weather['t2m'][226], s=50, color='r')\n",
    "ax1.set_xlabel('Day of year', fontsize=14)\n",
    "ax1.set_ylabel('Air temperature (K)', fontsize=14)\n",
    "\n",
    "ax2.plot(florence_weather['tcc'])\n",
    "ax2.scatter(226, florence_weather['tcc'][226], s=50, color='r')\n",
    "ax2.set_xlabel('Day of year', fontsize=14)\n",
    "ax2.set_ylabel('Cloud cover (%)', fontsize=14)"
   ]
  },
  {
   "cell_type": "markdown",
   "id": "1e1d5461",
   "metadata": {},
   "source": [
    "### Find mean values\n",
    "\n",
    "It was a pretty nice warm day in Florence on Aug 14, 2020 relative to mean annual conditions. But what is the actual mean?"
   ]
  },
  {
   "cell_type": "code",
   "execution_count": null,
   "id": "8ba76a26",
   "metadata": {},
   "outputs": [],
   "source": [
    "mean_temp = (florence_weather['t2m'].mean() - 273.15) * 9/5 + 32\n",
    "print('Mean air temp. in Florence in 2020 = %.2f F' % (mean_temp))"
   ]
  },
  {
   "cell_type": "code",
   "execution_count": null,
   "id": "757bf13f",
   "metadata": {},
   "outputs": [],
   "source": [
    "mean_cloud = florence_weather['tcc'].mean()\n",
    "print('Mean cloud cover in Florence in 2020 = %.2f %%' % (mean_cloud * 100))"
   ]
  },
  {
   "cell_type": "markdown",
   "id": "1647cf25",
   "metadata": {},
   "source": [
    "Finally, let's calculate how many days had less than 20% cloud cover in Florence"
   ]
  },
  {
   "cell_type": "code",
   "execution_count": null,
   "id": "b0a2a904",
   "metadata": {},
   "outputs": [],
   "source": [
    "days = np.sum(florence_weather['tcc'] < 0.2).values\n",
    "print('There were %.0f days with less than 20%% cloud cover in 2020' % days)"
   ]
  },
  {
   "cell_type": "markdown",
   "id": "be64d21b",
   "metadata": {},
   "source": [
    "***********\n",
    "## Question 1 (10 points): \n",
    "\n",
    "Now that we have gone through some examples in the lecture and lab we are ready to apply some of these methods ourselves. Start by making a **new** `jupyter notebook` called `lab4_submission.ipynb` and complete the following tasks. \n",
    "\n",
    "Find the following numbers in the climate reanalysis dataset:\n",
    "\n",
    "* a) the air temperature (in F) **and** cloud cover (in %) in Florence, OR (in 2020) on **January 31, 2020**?\n",
    "* b) the air temperature (in F) **and** cloud cover (in %) in **Eugene, OR** (in 2020) on **February 15, 2020**?\n",
    "\n",
    "You can use the following table to convert from a **date** to a **day-of-year**: https://landweb.modaps.eosdis.nasa.gov/browse/calendar.html\n",
    "\n",
    "\n",
    "*******\n",
    "## Question 2 (20 points):\n",
    "\n",
    "Find the following grid cells in the climate reanalysis dataset and provide a rough location of where they are located. \n",
    "\n",
    "* a) Highest average air temperature (i.e. hottest place)\n",
    "* b) Lowest average air temperature (i.e. coldest place)\n",
    "* c) Highest average cloudiness (i.e. cloudiest place)\n",
    "* d) Lowest average cloudiest (i.e. least cloudy place)\n",
    "* e) Place with highest range in air temperature\n",
    "* f) Place with the absolute coldest temperature on a single day \n",
    "\n",
    "You can use the following link to convert your lat/lons to an address: https://www.latlong.net/Show-Latitude-Longitude.html\n",
    "\n",
    "**********\n",
    "\n",
    "## Question 3 (20 points): \n",
    "\n",
    "Display the Landsat image of Florence, OR as:\n",
    "\n",
    "* a) an **NDVI** image (i.e. (Band 5 - Band 4) / (Band 5 + Band 4))\n",
    "* b) a **color infrared composite** (i.e. bands 5, 4, 3)\n",
    "\n",
    "*********\n",
    "\n",
    "## Question 4 (for grad students/extra credit)\n",
    "\n",
    "* a) Produce an NDWI histogram for the Landsat image of Florence \n",
    "* b) Choose a threshold and produce a binary water mask\n",
    "* c) Compute the area of water in the image (including ocean)\n",
    "\n",
    "\n",
    "## Remember to submit your answers to Questions 1, 2 and 3 **by Friday 11:59pm**"
   ]
  },
  {
   "cell_type": "code",
   "execution_count": null,
   "id": "cce70e37",
   "metadata": {},
   "outputs": [],
   "source": [
    "# HINT use argmax() or argmin()\n",
    "max_value = np.mean(xds_daily['t2m'], axis=0).argmax()\n",
    "index = np.unravel_index(max_value, np.mean(xds_daily['t2m'], axis=0).shape)"
   ]
  }
 ],
 "metadata": {
  "kernelspec": {
   "display_name": "Python 3 (ipykernel)",
   "language": "python",
   "name": "python3"
  },
  "language_info": {
   "codemirror_mode": {
    "name": "ipython",
    "version": 3
   },
   "file_extension": ".py",
   "mimetype": "text/x-python",
   "name": "python",
   "nbconvert_exporter": "python",
   "pygments_lexer": "ipython3",
   "version": "3.9.7"
  }
 },
 "nbformat": 4,
 "nbformat_minor": 5
}
