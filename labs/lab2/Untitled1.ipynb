{
 "cells": [
  {
   "cell_type": "code",
   "execution_count": 1,
   "id": "98441b8a",
   "metadata": {},
   "outputs": [
    {
     "name": "stderr",
     "output_type": "stream",
     "text": [
      "Unable to revert mtime: /Library/Fonts\n"
     ]
    }
   ],
   "source": [
    "# Import modules\n",
    "import pandas as pd\n",
    "import geopandas as gpd\n",
    "import matplotlib.pyplot as plt"
   ]
  },
  {
   "cell_type": "code",
   "execution_count": 13,
   "id": "24bdd0cc",
   "metadata": {},
   "outputs": [],
   "source": [
    "# Define data filepath\n",
    "pathname = './DATAforLab2/'\n",
    "\n",
    "# Read data\n",
    "df = gpd.read_file(pathname + 'or_1992-2018.shp') # 'df' stands for DataFrame"
   ]
  },
  {
   "cell_type": "code",
   "execution_count": 14,
   "id": "a388d259",
   "metadata": {},
   "outputs": [
    {
     "data": {
      "text/html": [
       "<div>\n",
       "<style scoped>\n",
       "    .dataframe tbody tr th:only-of-type {\n",
       "        vertical-align: middle;\n",
       "    }\n",
       "\n",
       "    .dataframe tbody tr th {\n",
       "        vertical-align: top;\n",
       "    }\n",
       "\n",
       "    .dataframe thead th {\n",
       "        text-align: right;\n",
       "    }\n",
       "</style>\n",
       "<table border=\"1\" class=\"dataframe\">\n",
       "  <thead>\n",
       "    <tr style=\"text-align: right;\">\n",
       "      <th></th>\n",
       "      <th>OBJECTID</th>\n",
       "      <th>FOD_ID</th>\n",
       "      <th>FPA_ID</th>\n",
       "      <th>SOURCE_SYS</th>\n",
       "      <th>SOURCE_S_1</th>\n",
       "      <th>NWCG_REPOR</th>\n",
       "      <th>NWCG_REP_1</th>\n",
       "      <th>NWCG_REP_2</th>\n",
       "      <th>SOURCE_REP</th>\n",
       "      <th>SOURCE_R_1</th>\n",
       "      <th>...</th>\n",
       "      <th>FIRE_SIZE</th>\n",
       "      <th>FIRE_SIZE_</th>\n",
       "      <th>LATITUDE</th>\n",
       "      <th>LONGITUDE</th>\n",
       "      <th>OWNER_DESC</th>\n",
       "      <th>STATE</th>\n",
       "      <th>COUNTY</th>\n",
       "      <th>FIPS_CODE</th>\n",
       "      <th>FIPS_NAME</th>\n",
       "      <th>geometry</th>\n",
       "    </tr>\n",
       "  </thead>\n",
       "  <tbody>\n",
       "    <tr>\n",
       "      <th>0</th>\n",
       "      <td>1586162.0</td>\n",
       "      <td>201604465</td>\n",
       "      <td>SFO-2012ORODF1272303413</td>\n",
       "      <td>NONFED</td>\n",
       "      <td>ST-NASF</td>\n",
       "      <td>ST/C&amp;L</td>\n",
       "      <td>USORORS</td>\n",
       "      <td>Oregon Department of Forestry Salem Headquarters</td>\n",
       "      <td>ORODF</td>\n",
       "      <td>Oregon Department of Forestry</td>\n",
       "      <td>...</td>\n",
       "      <td>0.50</td>\n",
       "      <td>B</td>\n",
       "      <td>42.238610</td>\n",
       "      <td>-124.394720</td>\n",
       "      <td>PRIVATE</td>\n",
       "      <td>OR</td>\n",
       "      <td>Curry</td>\n",
       "      <td>41015</td>\n",
       "      <td>Curry County</td>\n",
       "      <td>POINT (-124.39472 42.23861)</td>\n",
       "    </tr>\n",
       "    <tr>\n",
       "      <th>1</th>\n",
       "      <td>1216678.0</td>\n",
       "      <td>1475171</td>\n",
       "      <td>W-610834</td>\n",
       "      <td>FED</td>\n",
       "      <td>DOI-WFMI</td>\n",
       "      <td>BLM</td>\n",
       "      <td>USORCBD</td>\n",
       "      <td>Coos Bay District</td>\n",
       "      <td>ORCBD</td>\n",
       "      <td>Coos Bay District</td>\n",
       "      <td>...</td>\n",
       "      <td>0.10</td>\n",
       "      <td>A</td>\n",
       "      <td>42.251900</td>\n",
       "      <td>-124.378900</td>\n",
       "      <td>PRIVATE</td>\n",
       "      <td>OR</td>\n",
       "      <td>Curry</td>\n",
       "      <td>41015</td>\n",
       "      <td>Curry County</td>\n",
       "      <td>POINT (-124.37890 42.25190)</td>\n",
       "    </tr>\n",
       "    <tr>\n",
       "      <th>2</th>\n",
       "      <td>1826690.0</td>\n",
       "      <td>300247467</td>\n",
       "      <td>SFO-2015ORODF1572310116</td>\n",
       "      <td>NONFED</td>\n",
       "      <td>ST-NASF</td>\n",
       "      <td>ST/C&amp;L</td>\n",
       "      <td>USORORS</td>\n",
       "      <td>Oregon Department of Forestry Salem Headquarters</td>\n",
       "      <td>ORODF</td>\n",
       "      <td>Oregon Department of Forestry</td>\n",
       "      <td>...</td>\n",
       "      <td>0.37</td>\n",
       "      <td>B</td>\n",
       "      <td>42.254170</td>\n",
       "      <td>-124.392500</td>\n",
       "      <td>PRIVATE</td>\n",
       "      <td>OR</td>\n",
       "      <td>Curry</td>\n",
       "      <td>41015</td>\n",
       "      <td>Curry County</td>\n",
       "      <td>POINT (-124.39250 42.25417)</td>\n",
       "    </tr>\n",
       "    <tr>\n",
       "      <th>3</th>\n",
       "      <td>1986235.0</td>\n",
       "      <td>400114024</td>\n",
       "      <td>SFO-2017ORODF1772303518</td>\n",
       "      <td>NONFED</td>\n",
       "      <td>ST-NASF</td>\n",
       "      <td>ST/C&amp;L</td>\n",
       "      <td>USORORS</td>\n",
       "      <td>Oregon Department of Forestry Salem Headquarters</td>\n",
       "      <td>ORODF</td>\n",
       "      <td>Oregon Department of Forestry</td>\n",
       "      <td>...</td>\n",
       "      <td>0.01</td>\n",
       "      <td>A</td>\n",
       "      <td>42.267920</td>\n",
       "      <td>-124.399720</td>\n",
       "      <td>STATE</td>\n",
       "      <td>OR</td>\n",
       "      <td>Curry</td>\n",
       "      <td>41015</td>\n",
       "      <td>Curry County</td>\n",
       "      <td>POINT (-124.39972 42.26792)</td>\n",
       "    </tr>\n",
       "    <tr>\n",
       "      <th>4</th>\n",
       "      <td>1145371.0</td>\n",
       "      <td>1397051</td>\n",
       "      <td>ODF-86539</td>\n",
       "      <td>NONFED</td>\n",
       "      <td>ST-ORORS</td>\n",
       "      <td>ST/C&amp;L</td>\n",
       "      <td>USOR723S</td>\n",
       "      <td>Gold Beach Unit</td>\n",
       "      <td>ORODF-723</td>\n",
       "      <td>Gold Beach Unit</td>\n",
       "      <td>...</td>\n",
       "      <td>148.00</td>\n",
       "      <td>D</td>\n",
       "      <td>42.273060</td>\n",
       "      <td>-124.402500</td>\n",
       "      <td>STATE</td>\n",
       "      <td>OR</td>\n",
       "      <td>8</td>\n",
       "      <td>41015</td>\n",
       "      <td>Curry County</td>\n",
       "      <td>POINT (-124.40250 42.27306)</td>\n",
       "    </tr>\n",
       "    <tr>\n",
       "      <th>...</th>\n",
       "      <td>...</td>\n",
       "      <td>...</td>\n",
       "      <td>...</td>\n",
       "      <td>...</td>\n",
       "      <td>...</td>\n",
       "      <td>...</td>\n",
       "      <td>...</td>\n",
       "      <td>...</td>\n",
       "      <td>...</td>\n",
       "      <td>...</td>\n",
       "      <td>...</td>\n",
       "      <td>...</td>\n",
       "      <td>...</td>\n",
       "      <td>...</td>\n",
       "      <td>...</td>\n",
       "      <td>...</td>\n",
       "      <td>...</td>\n",
       "      <td>...</td>\n",
       "      <td>...</td>\n",
       "      <td>...</td>\n",
       "      <td>...</td>\n",
       "    </tr>\n",
       "    <tr>\n",
       "      <th>67037</th>\n",
       "      <td>2073814.0</td>\n",
       "      <td>400333029</td>\n",
       "      <td>SFO-2018ORODF1858206518</td>\n",
       "      <td>NONFED</td>\n",
       "      <td>ST-NASF</td>\n",
       "      <td>ST/C&amp;L</td>\n",
       "      <td>USORORS</td>\n",
       "      <td>Oregon Department of Forestry Salem Headquarters</td>\n",
       "      <td>ORODF</td>\n",
       "      <td>Oregon Department of Forestry</td>\n",
       "      <td>...</td>\n",
       "      <td>0.01</td>\n",
       "      <td>A</td>\n",
       "      <td>44.714970</td>\n",
       "      <td>-122.492360</td>\n",
       "      <td>STATE</td>\n",
       "      <td>OR</td>\n",
       "      <td>Linn</td>\n",
       "      <td>41043</td>\n",
       "      <td>Linn County</td>\n",
       "      <td>POINT (-122.49236 44.71497)</td>\n",
       "    </tr>\n",
       "    <tr>\n",
       "      <th>67038</th>\n",
       "      <td>2073938.0</td>\n",
       "      <td>400333176</td>\n",
       "      <td>SFO-2018ORODF1858200719</td>\n",
       "      <td>NONFED</td>\n",
       "      <td>ST-NASF</td>\n",
       "      <td>ST/C&amp;L</td>\n",
       "      <td>USORORS</td>\n",
       "      <td>Oregon Department of Forestry Salem Headquarters</td>\n",
       "      <td>ORODF</td>\n",
       "      <td>Oregon Department of Forestry</td>\n",
       "      <td>...</td>\n",
       "      <td>0.01</td>\n",
       "      <td>A</td>\n",
       "      <td>44.714970</td>\n",
       "      <td>-122.492280</td>\n",
       "      <td>STATE</td>\n",
       "      <td>OR</td>\n",
       "      <td>Linn</td>\n",
       "      <td>41043</td>\n",
       "      <td>Linn County</td>\n",
       "      <td>POINT (-122.49228 44.71497)</td>\n",
       "    </tr>\n",
       "    <tr>\n",
       "      <th>67039</th>\n",
       "      <td>2073818.0</td>\n",
       "      <td>400333033</td>\n",
       "      <td>SFO-2018ORODF1858206618</td>\n",
       "      <td>NONFED</td>\n",
       "      <td>ST-NASF</td>\n",
       "      <td>ST/C&amp;L</td>\n",
       "      <td>USORORS</td>\n",
       "      <td>Oregon Department of Forestry Salem Headquarters</td>\n",
       "      <td>ORODF</td>\n",
       "      <td>Oregon Department of Forestry</td>\n",
       "      <td>...</td>\n",
       "      <td>0.01</td>\n",
       "      <td>A</td>\n",
       "      <td>44.715030</td>\n",
       "      <td>-122.492390</td>\n",
       "      <td>STATE</td>\n",
       "      <td>OR</td>\n",
       "      <td>Linn</td>\n",
       "      <td>41043</td>\n",
       "      <td>Linn County</td>\n",
       "      <td>POINT (-122.49239 44.71503)</td>\n",
       "    </tr>\n",
       "    <tr>\n",
       "      <th>67040</th>\n",
       "      <td>2068578.0</td>\n",
       "      <td>400326229</td>\n",
       "      <td>SFO-2018ORODF1858203019</td>\n",
       "      <td>NONFED</td>\n",
       "      <td>ST-NASF</td>\n",
       "      <td>ST/C&amp;L</td>\n",
       "      <td>USORORS</td>\n",
       "      <td>Oregon Department of Forestry Salem Headquarters</td>\n",
       "      <td>ORODF</td>\n",
       "      <td>Oregon Department of Forestry</td>\n",
       "      <td>...</td>\n",
       "      <td>9.50</td>\n",
       "      <td>B</td>\n",
       "      <td>44.679140</td>\n",
       "      <td>-122.798750</td>\n",
       "      <td>PRIVATE</td>\n",
       "      <td>OR</td>\n",
       "      <td>Linn</td>\n",
       "      <td>41043</td>\n",
       "      <td>Linn County</td>\n",
       "      <td>POINT (-122.79875 44.67914)</td>\n",
       "    </tr>\n",
       "    <tr>\n",
       "      <th>67041</th>\n",
       "      <td>2047979.0</td>\n",
       "      <td>400302282</td>\n",
       "      <td>FS-6877239</td>\n",
       "      <td>FED</td>\n",
       "      <td>FS-FIRESTAT</td>\n",
       "      <td>FS</td>\n",
       "      <td>USORWIF</td>\n",
       "      <td>Willamette National Forest</td>\n",
       "      <td>0618</td>\n",
       "      <td>Willamette National Forest</td>\n",
       "      <td>...</td>\n",
       "      <td>0.10</td>\n",
       "      <td>A</td>\n",
       "      <td>44.699722</td>\n",
       "      <td>-122.186944</td>\n",
       "      <td>USFS</td>\n",
       "      <td>OR</td>\n",
       "      <td>043</td>\n",
       "      <td>41043</td>\n",
       "      <td>Linn County</td>\n",
       "      <td>POINT (-122.18694 44.69972)</td>\n",
       "    </tr>\n",
       "  </tbody>\n",
       "</table>\n",
       "<p>67042 rows × 39 columns</p>\n",
       "</div>"
      ],
      "text/plain": [
       "        OBJECTID     FOD_ID                   FPA_ID SOURCE_SYS   SOURCE_S_1  \\\n",
       "0      1586162.0  201604465  SFO-2012ORODF1272303413     NONFED      ST-NASF   \n",
       "1      1216678.0    1475171                 W-610834        FED     DOI-WFMI   \n",
       "2      1826690.0  300247467  SFO-2015ORODF1572310116     NONFED      ST-NASF   \n",
       "3      1986235.0  400114024  SFO-2017ORODF1772303518     NONFED      ST-NASF   \n",
       "4      1145371.0    1397051                ODF-86539     NONFED     ST-ORORS   \n",
       "...          ...        ...                      ...        ...          ...   \n",
       "67037  2073814.0  400333029  SFO-2018ORODF1858206518     NONFED      ST-NASF   \n",
       "67038  2073938.0  400333176  SFO-2018ORODF1858200719     NONFED      ST-NASF   \n",
       "67039  2073818.0  400333033  SFO-2018ORODF1858206618     NONFED      ST-NASF   \n",
       "67040  2068578.0  400326229  SFO-2018ORODF1858203019     NONFED      ST-NASF   \n",
       "67041  2047979.0  400302282               FS-6877239        FED  FS-FIRESTAT   \n",
       "\n",
       "      NWCG_REPOR NWCG_REP_1                                        NWCG_REP_2  \\\n",
       "0         ST/C&L    USORORS  Oregon Department of Forestry Salem Headquarters   \n",
       "1            BLM    USORCBD                                 Coos Bay District   \n",
       "2         ST/C&L    USORORS  Oregon Department of Forestry Salem Headquarters   \n",
       "3         ST/C&L    USORORS  Oregon Department of Forestry Salem Headquarters   \n",
       "4         ST/C&L   USOR723S                                   Gold Beach Unit   \n",
       "...          ...        ...                                               ...   \n",
       "67037     ST/C&L    USORORS  Oregon Department of Forestry Salem Headquarters   \n",
       "67038     ST/C&L    USORORS  Oregon Department of Forestry Salem Headquarters   \n",
       "67039     ST/C&L    USORORS  Oregon Department of Forestry Salem Headquarters   \n",
       "67040     ST/C&L    USORORS  Oregon Department of Forestry Salem Headquarters   \n",
       "67041         FS    USORWIF                        Willamette National Forest   \n",
       "\n",
       "      SOURCE_REP                     SOURCE_R_1  ... FIRE_SIZE FIRE_SIZE_  \\\n",
       "0          ORODF  Oregon Department of Forestry  ...      0.50          B   \n",
       "1          ORCBD              Coos Bay District  ...      0.10          A   \n",
       "2          ORODF  Oregon Department of Forestry  ...      0.37          B   \n",
       "3          ORODF  Oregon Department of Forestry  ...      0.01          A   \n",
       "4      ORODF-723                Gold Beach Unit  ...    148.00          D   \n",
       "...          ...                            ...  ...       ...        ...   \n",
       "67037      ORODF  Oregon Department of Forestry  ...      0.01          A   \n",
       "67038      ORODF  Oregon Department of Forestry  ...      0.01          A   \n",
       "67039      ORODF  Oregon Department of Forestry  ...      0.01          A   \n",
       "67040      ORODF  Oregon Department of Forestry  ...      9.50          B   \n",
       "67041       0618     Willamette National Forest  ...      0.10          A   \n",
       "\n",
       "        LATITUDE   LONGITUDE OWNER_DESC STATE COUNTY FIPS_CODE     FIPS_NAME  \\\n",
       "0      42.238610 -124.394720    PRIVATE    OR  Curry     41015  Curry County   \n",
       "1      42.251900 -124.378900    PRIVATE    OR  Curry     41015  Curry County   \n",
       "2      42.254170 -124.392500    PRIVATE    OR  Curry     41015  Curry County   \n",
       "3      42.267920 -124.399720      STATE    OR  Curry     41015  Curry County   \n",
       "4      42.273060 -124.402500      STATE    OR      8     41015  Curry County   \n",
       "...          ...         ...        ...   ...    ...       ...           ...   \n",
       "67037  44.714970 -122.492360      STATE    OR   Linn     41043   Linn County   \n",
       "67038  44.714970 -122.492280      STATE    OR   Linn     41043   Linn County   \n",
       "67039  44.715030 -122.492390      STATE    OR   Linn     41043   Linn County   \n",
       "67040  44.679140 -122.798750    PRIVATE    OR   Linn     41043   Linn County   \n",
       "67041  44.699722 -122.186944       USFS    OR    043     41043   Linn County   \n",
       "\n",
       "                          geometry  \n",
       "0      POINT (-124.39472 42.23861)  \n",
       "1      POINT (-124.37890 42.25190)  \n",
       "2      POINT (-124.39250 42.25417)  \n",
       "3      POINT (-124.39972 42.26792)  \n",
       "4      POINT (-124.40250 42.27306)  \n",
       "...                            ...  \n",
       "67037  POINT (-122.49236 44.71497)  \n",
       "67038  POINT (-122.49228 44.71497)  \n",
       "67039  POINT (-122.49239 44.71503)  \n",
       "67040  POINT (-122.79875 44.67914)  \n",
       "67041  POINT (-122.18694 44.69972)  \n",
       "\n",
       "[67042 rows x 39 columns]"
      ]
     },
     "execution_count": 14,
     "metadata": {},
     "output_type": "execute_result"
    }
   ],
   "source": [
    "df"
   ]
  },
  {
   "cell_type": "code",
   "execution_count": 15,
   "id": "64ff39dc",
   "metadata": {
    "scrolled": true
   },
   "outputs": [
    {
     "data": {
      "text/plain": [
       "Index(['OBJECTID', 'FOD_ID', 'FPA_ID', 'SOURCE_SYS', 'SOURCE_S_1',\n",
       "       'NWCG_REPOR', 'NWCG_REP_1', 'NWCG_REP_2', 'SOURCE_REP', 'SOURCE_R_1',\n",
       "       'LOCAL_FIRE', 'LOCAL_INCI', 'FIRE_CODE', 'FIRE_NAME', 'ICS_209_PL',\n",
       "       'ICS_209__1', 'MTBS_ID', 'MTBS_FIRE_', 'COMPLEX_NA', 'FIRE_YEAR',\n",
       "       'DISCOVERY_', 'DISCOVER_1', 'DISCOVER_2', 'NWCG_CAUSE', 'NWCG_GENER',\n",
       "       'NWCG_CAU_1', 'CONT_DATE', 'CONT_DOY', 'CONT_TIME', 'FIRE_SIZE',\n",
       "       'FIRE_SIZE_', 'LATITUDE', 'LONGITUDE', 'OWNER_DESC', 'STATE', 'COUNTY',\n",
       "       'FIPS_CODE', 'FIPS_NAME', 'geometry'],\n",
       "      dtype='object')"
      ]
     },
     "execution_count": 15,
     "metadata": {},
     "output_type": "execute_result"
    }
   ],
   "source": [
    "df.columns"
   ]
  },
  {
   "cell_type": "code",
   "execution_count": 16,
   "id": "151bb152",
   "metadata": {},
   "outputs": [
    {
     "data": {
      "text/plain": [
       "OBJECTID       float64\n",
       "FOD_ID           int64\n",
       "FPA_ID          object\n",
       "SOURCE_SYS      object\n",
       "SOURCE_S_1      object\n",
       "NWCG_REPOR      object\n",
       "NWCG_REP_1      object\n",
       "NWCG_REP_2      object\n",
       "SOURCE_REP      object\n",
       "SOURCE_R_1      object\n",
       "LOCAL_FIRE      object\n",
       "LOCAL_INCI      object\n",
       "FIRE_CODE       object\n",
       "FIRE_NAME       object\n",
       "ICS_209_PL      object\n",
       "ICS_209__1      object\n",
       "MTBS_ID         object\n",
       "MTBS_FIRE_      object\n",
       "COMPLEX_NA      object\n",
       "FIRE_YEAR        int64\n",
       "DISCOVERY_      object\n",
       "DISCOVER_1       int64\n",
       "DISCOVER_2      object\n",
       "NWCG_CAUSE      object\n",
       "NWCG_GENER      object\n",
       "NWCG_CAU_1      object\n",
       "CONT_DATE       object\n",
       "CONT_DOY       float64\n",
       "CONT_TIME       object\n",
       "FIRE_SIZE      float64\n",
       "FIRE_SIZE_      object\n",
       "LATITUDE       float64\n",
       "LONGITUDE      float64\n",
       "OWNER_DESC      object\n",
       "STATE           object\n",
       "COUNTY          object\n",
       "FIPS_CODE       object\n",
       "FIPS_NAME       object\n",
       "geometry      geometry\n",
       "dtype: object"
      ]
     },
     "execution_count": 16,
     "metadata": {},
     "output_type": "execute_result"
    }
   ],
   "source": [
    "df.dtypes"
   ]
  },
  {
   "cell_type": "code",
   "execution_count": 17,
   "id": "3d5dc626",
   "metadata": {},
   "outputs": [
    {
     "data": {
      "text/plain": [
       "count     67042.000000\n",
       "mean        144.878795\n",
       "std        3815.600420\n",
       "min           0.010000\n",
       "25%           0.100000\n",
       "50%           0.100000\n",
       "75%           0.330000\n",
       "max      558198.300000\n",
       "Name: FIRE_SIZE, dtype: float64"
      ]
     },
     "execution_count": 17,
     "metadata": {},
     "output_type": "execute_result"
    }
   ],
   "source": [
    "df['FIRE_SIZE'].describe()"
   ]
  },
  {
   "cell_type": "code",
   "execution_count": 18,
   "id": "a69ba1c0",
   "metadata": {},
   "outputs": [],
   "source": [
    "# Filter fires larger than 100 acres\n",
    "df_large = df[df['FIRE_SIZE'] > 100]"
   ]
  },
  {
   "cell_type": "code",
   "execution_count": 19,
   "id": "f37dd0fe",
   "metadata": {},
   "outputs": [
    {
     "data": {
      "text/plain": [
       "5077.047927022739"
      ]
     },
     "execution_count": 19,
     "metadata": {},
     "output_type": "execute_result"
    }
   ],
   "source": [
    "# Find mean size of wildfires larger than 100 acres\n",
    "df_large['FIRE_SIZE'].mean()"
   ]
  },
  {
   "cell_type": "code",
   "execution_count": 20,
   "id": "9ac440be",
   "metadata": {},
   "outputs": [
    {
     "data": {
      "text/plain": [
       "array(['Human', 'Natural', 'Missing data/not specified/undetermined'],\n",
       "      dtype=object)"
      ]
     },
     "execution_count": 20,
     "metadata": {},
     "output_type": "execute_result"
    }
   ],
   "source": [
    "# Find the different cause of large wildfires\n",
    "df_large['NWCG_CAUSE'].unique()"
   ]
  },
  {
   "cell_type": "code",
   "execution_count": 21,
   "id": "3e6a1216",
   "metadata": {},
   "outputs": [],
   "source": [
    "# Filter fires that were caused by natural causes\n",
    "df_large_natural = df_large[df_large['NWCG_CAUSE'] == 'Natural']"
   ]
  },
  {
   "cell_type": "code",
   "execution_count": 22,
   "id": "aa635070",
   "metadata": {},
   "outputs": [
    {
     "data": {
      "text/plain": [
       "56       2008/07/02 00:00:00.000\n",
       "89       2000/07/22 00:00:00.000\n",
       "95       2007/08/31 00:00:00.000\n",
       "96       2003/06/29 00:00:00.000\n",
       "109      2007/07/13 00:00:00.000\n",
       "                  ...           \n",
       "67007    2017/08/29 00:00:00.000\n",
       "67008    2011/09/15 00:00:00.000\n",
       "67014    2014/09/16 00:00:00.000\n",
       "67017    2013/08/07 00:00:00.000\n",
       "67022    2016/08/17 00:00:00.000\n",
       "Name: DISCOVERY_, Length: 1164, dtype: object"
      ]
     },
     "execution_count": 22,
     "metadata": {},
     "output_type": "execute_result"
    }
   ],
   "source": [
    "# Find date of discovery\n",
    "df_large_natural['DISCOVERY_']"
   ]
  },
  {
   "cell_type": "code",
   "execution_count": 23,
   "id": "b8169d7f",
   "metadata": {},
   "outputs": [
    {
     "data": {
      "text/plain": [
       "56      2008-07-02\n",
       "89      2000-07-22\n",
       "95      2007-08-31\n",
       "96      2003-06-29\n",
       "109     2007-07-13\n",
       "           ...    \n",
       "67007   2017-08-29\n",
       "67008   2011-09-15\n",
       "67014   2014-09-16\n",
       "67017   2013-08-07\n",
       "67022   2016-08-17\n",
       "Name: DISCOVERY_, Length: 1164, dtype: datetime64[ns]"
      ]
     },
     "execution_count": 23,
     "metadata": {},
     "output_type": "execute_result"
    }
   ],
   "source": [
    "datetime = pd.to_datetime(df_large_natural['DISCOVERY_'], format='%Y/%m/%d %H:%M:%S.%f')\n",
    "datetime"
   ]
  },
  {
   "cell_type": "code",
   "execution_count": 24,
   "id": "6e312dc9",
   "metadata": {},
   "outputs": [
    {
     "name": "stderr",
     "output_type": "stream",
     "text": [
      "/Users/chasekrogh/opt/anaconda3/envs/lab2/lib/python3.8/site-packages/geopandas/geodataframe.py:1351: SettingWithCopyWarning: \n",
      "A value is trying to be set on a copy of a slice from a DataFrame.\n",
      "Try using .loc[row_indexer,col_indexer] = value instead\n",
      "\n",
      "See the caveats in the documentation: https://pandas.pydata.org/pandas-docs/stable/user_guide/indexing.html#returning-a-view-versus-a-copy\n",
      "  super().__setitem__(key, value)\n"
     ]
    }
   ],
   "source": [
    "df_large_natural['datetime'] = datetime # Sorry about the warning, extra credit if someone can fix this!"
   ]
  },
  {
   "cell_type": "code",
   "execution_count": 25,
   "id": "56599988",
   "metadata": {},
   "outputs": [],
   "source": [
    "# Filter large, natural wildfires in 2016\n",
    "df_large_natural_2016 = df_large_natural[df_large_natural['datetime'].dt.year == 2016]"
   ]
  },
  {
   "cell_type": "code",
   "execution_count": 26,
   "id": "4d3a51fc",
   "metadata": {},
   "outputs": [],
   "source": [
    "# Find number of large fires in each year (i.e. number of rows in each year)\n",
    "large_fire_count = df_large.iloc[:,0].groupby(df_large_natural['datetime'].dt.year).count()"
   ]
  },
  {
   "cell_type": "code",
   "execution_count": 27,
   "id": "eb6c093b",
   "metadata": {},
   "outputs": [],
   "source": [
    "# Find acres of wildfire for each year\n",
    "large_fire_area = df_large['FIRE_SIZE'].groupby(df_large_natural['datetime'].dt.year).sum()"
   ]
  },
  {
   "cell_type": "code",
   "execution_count": 28,
   "id": "5e498dcf",
   "metadata": {},
   "outputs": [
    {
     "data": {
      "image/png": "[encoded data removed]",
      "text/plain": [
       "<Figure size 720x576 with 2 Axes>"
      ]
     },
     "metadata": {
      "needs_background": "light"
     },
     "output_type": "display_data"
    }
   ],
   "source": [
    "fig, (ax1, ax2) = plt.subplots(nrows=2, ncols=1, figsize=(10,8), sharex=True)\n",
    "ax1.plot(large_fire_count, lw=2)\n",
    "ax1.set_ylabel('Number of fires (>100 acres)', fontsize=14)\n",
    "ax1.tick_params(axis='x', labelsize=14)\n",
    "ax1.tick_params(axis='y', labelsize=14)\n",
    "ax1.grid(ls='dotted', lw=2, alpha=0.5)\n",
    "\n",
    "ax2.plot(large_fire_area, lw=2)\n",
    "ax2.set_ylabel('Area of fires (>100 acres)', fontsize=14)\n",
    "ax2.tick_params(axis='x', labelsize=14)\n",
    "ax2.tick_params(axis='y', labelsize=14)\n",
    "ax2.grid(ls='dotted', lw=2, alpha=0.5)"
   ]
  },
  {
   "cell_type": "code",
   "execution_count": 29,
   "id": "495380f8",
   "metadata": {},
   "outputs": [
    {
     "data": {
      "text/plain": [
       "count              45898\n",
       "unique                45\n",
       "top       Jackson County\n",
       "freq                4284\n",
       "Name: FIPS_NAME, dtype: object"
      ]
     },
     "execution_count": 29,
     "metadata": {},
     "output_type": "execute_result"
    }
   ],
   "source": [
    "df['FIPS_NAME'].describe()"
   ]
  },
  {
   "cell_type": "code",
   "execution_count": null,
   "id": "7ff886f8",
   "metadata": {},
   "outputs": [],
   "source": []
  }
 ],
 "metadata": {
  "kernelspec": {
   "display_name": "Python 3 (ipykernel)",
   "language": "python",
   "name": "python3"
  },
  "language_info": {
   "codemirror_mode": {
    "name": "ipython",
    "version": 3
   },
   "file_extension": ".py",
   "mimetype": "text/x-python",
   "name": "python",
   "nbconvert_exporter": "python",
   "pygments_lexer": "ipython3",
   "version": "3.8.12"
  }
 },
 "nbformat": 4,
 "nbformat_minor": 5
}
